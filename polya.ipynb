{
 "cells": [
  {
   "cell_type": "code",
   "execution_count": 1,
   "metadata": {},
   "outputs": [
    {
     "name": "stdout",
     "output_type": "stream",
     "text": [
      "Welcome to JupyROOT 6.30/04\n"
     ]
    }
   ],
   "source": [
    "import ROOT as r\n",
    "import warnings\n",
    "import numpy as np\n",
    "import matplotlib.pyplot as plt\n",
    "from scipy.special import gamma\n",
    "from scipy.optimize import curve_fit"
   ]
  },
  {
   "cell_type": "code",
   "execution_count": 2,
   "metadata": {},
   "outputs": [
    {
     "name": "stdout",
     "output_type": "stream",
     "text": [
      "TFile**\t\t/home/kaushik/Desktop/FinalInternship2024/dataset/models/100_300_750/GEM.root\t\n",
      " TFile*\t\t/home/kaushik/Desktop/FinalInternship2024/dataset/models/100_300_750/GEM.root\t\n",
      "  KEY: TTree\tGarfield;1\tTree with vectors\n"
     ]
    }
   ],
   "source": [
    "gem_file = r.TFile.Open(\"/home/kaushik/Desktop/FinalInternship2024/dataset/models/100_300_750/GEM.root\")\n",
    "gem_file.ls()\n",
    "tree = gem_file.Get(\"Garfield;1\")\n",
    "# tree.Print()"
   ]
  },
  {
   "cell_type": "code",
   "execution_count": 3,
   "metadata": {},
   "outputs": [
    {
     "data": {
      "text/plain": [
       "(5.3834, 4.846050395941008)"
      ]
     },
     "execution_count": 3,
     "metadata": {},
     "output_type": "execute_result"
    }
   ],
   "source": [
    "avalanche_e = []\n",
    "for entry in tree:\n",
    "    avalanche = getattr(entry,\"numberOfAvalancheElectrons\")\n",
    "    for value in avalanche:\n",
    "        avalanche_e.append(value)\n",
    "# count, bins , _ = plt.hist(avalanche_e,bins=100,density=False,range=(0,2000))\n",
    "# plt.title(\"number of Avalanche electrons\")\n",
    "np.mean(np.array(avalanche_e)), np.std(np.array(avalanche_e))\n",
    "\n",
    "# # Compute the bin width\n",
    "# bin_width = bins[1] - bins[0]\n",
    "\n",
    "# # Compute the total area\n",
    "# total_area = np.sum(count * bin_width)\n",
    "\n",
    "# print(f\"Total area (count): {total_area}\") "
   ]
  },
  {
   "cell_type": "code",
   "execution_count": 4,
   "metadata": {},
   "outputs": [
    {
     "data": {
      "text/plain": [
       "(5.3834, 4.846050395941008)"
      ]
     },
     "execution_count": 4,
     "metadata": {},
     "output_type": "execute_result"
    },
    {
     "data": {
      "image/png": "[encoded data removed]",
      "text/plain": [
       "<Figure size 640x480 with 1 Axes>"
      ]
     },
     "metadata": {},
     "output_type": "display_data"
    }
   ],
   "source": [
    "avalanche_e = []\n",
    "for entry in tree:\n",
    "    avalanche = getattr(entry,\"numberOfAvalancheElectrons\")\n",
    "    for value in avalanche:\n",
    "        avalanche_e.append(value)\n",
    "hist, bins , _ = plt.hist(avalanche_e,bins=100,density=False)\n",
    "plt.title(\"number of Avalanche electrons\")\n",
    "np.mean(np.array(avalanche_e)), np.std(np.array(avalanche_e))"
   ]
  },
  {
   "cell_type": "code",
   "execution_count": 5,
   "metadata": {},
   "outputs": [],
   "source": [
    "gain = []\n",
    "instances = []\n",
    "for i in range(len(hist)):\n",
    "    bin_center = (bins[i] + bins[i+1]) / 2\n",
    "    gain.append(bin_center)\n",
    "    instances.append(hist[i])\n",
    "\n",
    "gain = np.array(gain)\n",
    "instances = np.array(instances)\n",
    "gain = gain[1:]\n",
    "instances = instances[1:]"
   ]
  },
  {
   "cell_type": "code",
   "execution_count": 6,
   "metadata": {},
   "outputs": [],
   "source": [
    "# def polya(G,Go,m,a):\n",
    "#     return a* (((np.exp(-m*G/Go)) * m * ((m*G/Go)**(m-1))) / gamma(m))  \n",
    "  \n",
    "# instances = instances/ np.max(instances) \n",
    "# # For example: Go between 0 and 100, m between 0 and 10, and a between 0 and 1\n",
    "# lower_bounds = [200, 1, 1]\n",
    "# upper_bounds = [400, 2, 2]\n",
    "\n",
    "# # Perform curve fitting with bounds\n",
    "# params, cov = curve_fit(polya, gain, instances, bounds=(lower_bounds, upper_bounds))\n",
    "# gain_fit, m_fit, a_fit = params\n",
    "# plt.plot(gain,instances, 'r-', lw=2, label='Data')\n",
    "\n",
    "# x = np.linspace(1, max(avalanche_e)+300, 1000)\n",
    "# pdf_fit = polya(x, gain_fit, m_fit, a_fit )\n",
    "\n",
    "# count, bins, _ = plt.hist(gain-10,gain+10,weights=instances, alpha=0.6,edgecolor='black', color='g')\n",
    "# plt.plot(x, pdf_fit, 'k-',color='blue', label='Fitted Polya Distribution')\n",
    "\n",
    "# plt.title('Fitting Polya Distribution')\n",
    "# plt.xlabel('Gain G')\n",
    "# plt.ylabel('Instances')\n",
    "# plt.legend()\n",
    "# plt.grid(True)\n",
    "# plt.show()\n",
    "\n",
    "# print(\"gain:\", gain_fit, m_fit, a_fit)\n",
    "# # Compute the bin width\n",
    "# bin_width = bins[1] - bins[0]\n",
    "\n",
    "# # Compute the total area\n",
    "# total_area = np.sum(count * bin_width)\n",
    "\n",
    "# print(f\"Total area (count): {total_area}\") \n"
   ]
  },
  {
   "cell_type": "code",
   "execution_count": 7,
   "metadata": {},
   "outputs": [],
   "source": [
    "# def polya(G,Go,m):\n",
    "#     return (((np.exp(-m*G/Go)) * m * ((m*G/Go)**(m-1))) / gamma(m))  \n",
    "\n",
    "# instances = instances/ np.max(instances) \n",
    "# # For example: Go between 0 and 100, m between 0 and 10, and a between 0 and 1\n",
    "# lower_bounds = [200, 1]\n",
    "# upper_bounds = [400, 2]\n",
    "\n",
    "# # Perform curve fitting with bounds\n",
    "# params, cov = curve_fit(polya, gain, instances, bounds=(lower_bounds, upper_bounds))\n",
    "# gain_fit, m_fit = params\n",
    "# plt.plot(gain,instances, 'r-', lw=2, label='Data')\n",
    "\n",
    "# x = np.linspace(1, max(avalanche_e)+300, 1000)\n",
    "# pdf_fit = polya(x, gain_fit, m_fit, )\n",
    "\n",
    "# plt.hist(gain-10,gain+10,weights=instances, alpha=0.6,edgecolor='black', color='g')\n",
    "# plt.plot(x, pdf_fit, 'k-',color='blue', label='Fitted Polya Distribution')\n",
    "\n",
    "# plt.title('Fitting Polya Distribution')\n",
    "# plt.xlabel('Gain G')\n",
    "# plt.ylabel('Instances')\n",
    "# plt.legend()\n",
    "# plt.grid(True)\n",
    "# plt.show()\n",
    "\n",
    "# print(\"gain:\", gain_fit, m_fit)\n"
   ]
  },
  {
   "cell_type": "code",
   "execution_count": 13,
   "metadata": {},
   "outputs": [],
   "source": [
    "gain = np.array(gain)\n",
    "instances = np.array(instances)\n",
    "bins = np.linspace(0, 2000, 100)\n",
    "bin_width = bins[1] - bins[0]\n",
    "\n",
    "\n",
    "\n",
    "def gaussian(x, sigma):\n",
    "    coefficient = 1 / (sigma * np.sqrt(2 * np.pi))\n",
    "    exponent = -((x -0.25)** 2) / (2 * sigma ** 2)\n",
    "    return coefficient * np.exp(exponent)\n",
    "\n",
    "def polya(G,Go,m,sigma):\n",
    "    return (((np.exp(-m*G/Go)) * m * ((m*G/Go)**(m-1))) / gamma(m)) + 0* gaussian(G, sigma)\n",
    "def polya_2(G,Go,m,sigma):\n",
    "    x = np.linspace(np.min(G),np.max(G),100)\n",
    "    bin_width = x[1] - x[0]\n",
    "    polya_height = polya(G, Go, m,sigma)\n",
    "    total_area = np.sum(polya_height * bin_width)\n",
    "    polya_height = polya_height/total_area\n",
    "    return polya_height\n",
    "# polya_height = polya_2(x, 310, 1.5)\n",
    "# # total_area = np.sum(polya_height * bin_width)\n",
    "# # total_area\n",
    "# plt.plot(bins,polya_height, 'r-', lw=2, label='Data')\n",
    "# count, bin , _ = plt.hist(avalanche_e,bins=100,density=True,range=(10,2000), alpha=0.7,edgecolor='black', color='blue')\n",
    "# print(gain_fit, m_fit)\n",
    "# plt.title('Fitting Polya Distribution')\n",
    "# plt.show()\n",
    "# plt.plot(bin_width,count, '-',color='blue', label='Fitted Polya Distribution')"
   ]
  },
  {
   "cell_type": "code",
   "execution_count": 17,
   "metadata": {},
   "outputs": [
    {
     "name": "stdout",
     "output_type": "stream",
     "text": [
      "[ 0.25  1.25  2.25  3.25  4.25  5.25  6.25  7.25  8.25  9.25 10.25 11.25\n",
      " 12.25 13.25 14.25 15.25 16.25 17.25 18.25 19.25 20.25 21.25 22.25 23.25\n",
      " 24.25 25.25 26.25 27.25 28.25 29.25 30.25 31.25 32.25 33.25 34.25 35.25\n",
      " 36.25 39.25 41.25 49.75]\n"
     ]
    },
    {
     "name": "stderr",
     "output_type": "stream",
     "text": [
      "/tmp/ipykernel_40690/875843744.py:24: UserWarning: color is redundantly defined by the 'color' keyword argument and the fmt string \"k-\" (-> color='k'). The keyword argument will take precedence.\n",
      "  plt.plot(bins, pdf_fit, 'k-',color='blue', label='Fitted Polya Distribution')\n"
     ]
    },
    {
     "data": {
      "image/png": "[encoded data removed]",
      "text/plain": [
       "<Figure size 640x480 with 1 Axes>"
      ]
     },
     "metadata": {},
     "output_type": "display_data"
    },
    {
     "name": "stdout",
     "output_type": "stream",
     "text": [
      "gain: 4.8518589380929615 1.6489508159626403 0.5\n"
     ]
    }
   ],
   "source": [
    "# For example: Go between 0 and 100, m between 0 and 10, and a between 0 and 1\n",
    "# bins[1] - bins[0]\n",
    "count, bins, _ = plt.hist(avalanche_e,density=True,bins=100, alpha=0.6,edgecolor='black', color='g')\n",
    "lower_bounds = [2, 1,0]\n",
    "upper_bounds = [400, 2.4,1]\n",
    "count = np.array(count)\n",
    "bins = np.array(bins)\n",
    "# count = count[2:]\n",
    "# bins = bins[2:]\n",
    "# plt.hist(bins-8.75,bins+8.75,weights=count, alpha=0.6,edgecolor='black', color='g')\n",
    "\n",
    "\n",
    "\n",
    "bins = bins[1:] - (bins[1] - bins[0])/2\n",
    "bins = bins[count !=0]\n",
    "count = count[count !=0]\n",
    "# Perform curve fitting with bounds\n",
    "params, cov = curve_fit(polya_2, bins, count, bounds=(lower_bounds, upper_bounds))\n",
    "gain_fit, m_fit, sigma_fit = params\n",
    "\n",
    "pdf_fit = polya_2(bins, gain_fit, m_fit, sigma_fit)\n",
    "\n",
    "plt.plot(bins, pdf_fit, 'k-',color='blue', label='Fitted Polya Distribution')\n",
    "# plt.plot(bins,count, 'r-', lw=2, label='Data')\n",
    "plt.title('Fitting Polya Distribution')\n",
    "plt.xlabel('Gain G')\n",
    "# plt.text(1, 10, 'Point 1', fontsize=12, color='blue')\n",
    "\n",
    "plt.ylabel('Instances')\n",
    "plt.legend()\n",
    "plt.grid(True)\n",
    "plt.show()\n",
    "\n",
    "print(\"gain:\", gain_fit, m_fit, sigma_fit)"
   ]
  },
  {
   "cell_type": "code",
   "execution_count": 10,
   "metadata": {},
   "outputs": [
    {
     "ename": "NameError",
     "evalue": "name 'stats' is not defined",
     "output_type": "error",
     "traceback": [
      "\u001b[0;31m---------------------------------------------------------------------------\u001b[0m",
      "\u001b[0;31mNameError\u001b[0m                                 Traceback (most recent call last)",
      "Cell \u001b[0;32mIn[10], line 20\u001b[0m\n\u001b[1;32m     17\u001b[0m observed \u001b[38;5;241m=\u001b[39m [\u001b[38;5;241m10\u001b[39m, \u001b[38;5;241m20\u001b[39m, \u001b[38;5;241m30\u001b[39m, \u001b[38;5;241m40\u001b[39m]  \u001b[38;5;66;03m# Observed frequencies\u001b[39;00m\n\u001b[1;32m     18\u001b[0m expected \u001b[38;5;241m=\u001b[39m [\u001b[38;5;241m15\u001b[39m, \u001b[38;5;241m15\u001b[39m, \u001b[38;5;241m25\u001b[39m, \u001b[38;5;241m45\u001b[39m] \n\u001b[0;32m---> 20\u001b[0m \u001b[43mchi_square_test\u001b[49m\u001b[43m(\u001b[49m\u001b[43mcount\u001b[49m\u001b[43m,\u001b[49m\u001b[43m \u001b[49m\u001b[43mpdf_fit\u001b[49m\u001b[43m)\u001b[49m\n",
      "Cell \u001b[0;32mIn[10], line 14\u001b[0m, in \u001b[0;36mchi_square_test\u001b[0;34m(observed, expected)\u001b[0m\n\u001b[1;32m     12\u001b[0m degrees_of_freedom \u001b[38;5;241m=\u001b[39m \u001b[38;5;28mlen\u001b[39m(observed) \u001b[38;5;241m-\u001b[39m \u001b[38;5;241m1\u001b[39m\n\u001b[1;32m     13\u001b[0m alpha \u001b[38;5;241m=\u001b[39m \u001b[38;5;241m0.05\u001b[39m\n\u001b[0;32m---> 14\u001b[0m critical_value \u001b[38;5;241m=\u001b[39m \u001b[43mstats\u001b[49m\u001b[38;5;241m.\u001b[39mchi2\u001b[38;5;241m.\u001b[39mppf(\u001b[38;5;241m1\u001b[39m \u001b[38;5;241m-\u001b[39m alpha, degrees_of_freedom)\n\u001b[1;32m     15\u001b[0m \u001b[38;5;28;01mreturn\u001b[39;00m chi2_statistic, critical_value\n",
      "\u001b[0;31mNameError\u001b[0m: name 'stats' is not defined"
     ]
    }
   ],
   "source": [
    "import numpy as np\n",
    "\n",
    "def chi_square_test(observed, expected):\n",
    "    # Convert lists to numpy arrays for easier computation\n",
    "    observed = np.array(observed)\n",
    "    expected = np.array(expected)\n",
    "    \n",
    "    # Calculate chi-square statistic\n",
    "    chi2_statistic = np.sum((observed - expected)**2 / expected)\n",
    "    \n",
    "    # Calculate degrees of freedom\n",
    "    degrees_of_freedom = len(observed) - 1\n",
    "    alpha = 0.05\n",
    "    critical_value = stats.chi2.ppf(1 - alpha, degrees_of_freedom)\n",
    "    return chi2_statistic, critical_value\n",
    "        \n",
    "observed = [10, 20, 30, 40]  # Observed frequencies\n",
    "expected = [15, 15, 25, 45] \n",
    "\n",
    "chi_square_test(count, pdf_fit)\n"
   ]
  }
 ],
 "metadata": {
  "kernelspec": {
   "display_name": "my_env_name",
   "language": "python",
   "name": "python3"
  },
  "language_info": {
   "codemirror_mode": {
    "name": "ipython",
    "version": 3
   },
   "file_extension": ".py",
   "mimetype": "text/x-python",
   "name": "python",
   "nbconvert_exporter": "python",
   "pygments_lexer": "ipython3",
   "version": "3.8.19"
  }
 },
 "nbformat": 4,
 "nbformat_minor": 2
}
